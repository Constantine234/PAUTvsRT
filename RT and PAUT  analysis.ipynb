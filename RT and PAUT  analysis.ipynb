{
 "cells": [
  {
   "cell_type": "code",
   "execution_count": 1,
   "id": "217f740d",
   "metadata": {},
   "outputs": [],
   "source": [
    "#inroducing the packages we will be using in this analysis\n",
    "import pandas as pd\n",
    "import matplotlib.pyplot as plt\n",
    "import seaborn as sns"
   ]
  },
  {
   "cell_type": "code",
   "execution_count": 2,
   "id": "e96b2964",
   "metadata": {},
   "outputs": [],
   "source": [
    "# Define the data for PAUT\n",
    "data_paut = {\n",
    "    'WELDED PLATE ID': ['PLATE 1155', 'PLATE 1155', 'PLATE 14820', 'PLATE 14820'],\n",
    "    'TYPES OF DISCONTINUITIES': ['Porosity', 'Excessive Penetration', 'Crack', 'Porosity'],\n",
    "    'LOCATION FROM 0 (mm)': [92.5, 168, 3.5, 136],\n",
    "    'LENGTH OF DEFECT (mm)': [18.5, 19.0, 28.5, 25.0]\n",
    "}"
   ]
  },
  {
   "cell_type": "code",
   "execution_count": 3,
   "id": "79b86a46",
   "metadata": {},
   "outputs": [],
   "source": [
    "df_paut = pd.DataFrame(data_paut)"
   ]
  },
  {
   "cell_type": "code",
   "execution_count": 4,
   "id": "6c1cb2c4",
   "metadata": {},
   "outputs": [
    {
     "data": {
      "text/html": [
       "<div>\n",
       "<style scoped>\n",
       "    .dataframe tbody tr th:only-of-type {\n",
       "        vertical-align: middle;\n",
       "    }\n",
       "\n",
       "    .dataframe tbody tr th {\n",
       "        vertical-align: top;\n",
       "    }\n",
       "\n",
       "    .dataframe thead th {\n",
       "        text-align: right;\n",
       "    }\n",
       "</style>\n",
       "<table border=\"1\" class=\"dataframe\">\n",
       "  <thead>\n",
       "    <tr style=\"text-align: right;\">\n",
       "      <th></th>\n",
       "      <th>WELDED PLATE ID</th>\n",
       "      <th>TYPES OF DISCONTINUITIES</th>\n",
       "      <th>LOCATION FROM 0 (mm)</th>\n",
       "      <th>LENGTH OF DEFECT (mm)</th>\n",
       "    </tr>\n",
       "  </thead>\n",
       "  <tbody>\n",
       "    <tr>\n",
       "      <th>0</th>\n",
       "      <td>PLATE 1155</td>\n",
       "      <td>Porosity</td>\n",
       "      <td>92.5</td>\n",
       "      <td>18.5</td>\n",
       "    </tr>\n",
       "    <tr>\n",
       "      <th>1</th>\n",
       "      <td>PLATE 1155</td>\n",
       "      <td>Excessive Penetration</td>\n",
       "      <td>168.0</td>\n",
       "      <td>19.0</td>\n",
       "    </tr>\n",
       "    <tr>\n",
       "      <th>2</th>\n",
       "      <td>PLATE 14820</td>\n",
       "      <td>Crack</td>\n",
       "      <td>3.5</td>\n",
       "      <td>28.5</td>\n",
       "    </tr>\n",
       "    <tr>\n",
       "      <th>3</th>\n",
       "      <td>PLATE 14820</td>\n",
       "      <td>Porosity</td>\n",
       "      <td>136.0</td>\n",
       "      <td>25.0</td>\n",
       "    </tr>\n",
       "  </tbody>\n",
       "</table>\n",
       "</div>"
      ],
      "text/plain": [
       "  WELDED PLATE ID TYPES OF DISCONTINUITIES  LOCATION FROM 0 (mm)  \\\n",
       "0      PLATE 1155                 Porosity                  92.5   \n",
       "1      PLATE 1155    Excessive Penetration                 168.0   \n",
       "2     PLATE 14820                    Crack                   3.5   \n",
       "3     PLATE 14820                 Porosity                 136.0   \n",
       "\n",
       "   LENGTH OF DEFECT (mm)  \n",
       "0                   18.5  \n",
       "1                   19.0  \n",
       "2                   28.5  \n",
       "3                   25.0  "
      ]
     },
     "execution_count": 4,
     "metadata": {},
     "output_type": "execute_result"
    }
   ],
   "source": [
    "df_paut"
   ]
  },
  {
   "cell_type": "code",
   "execution_count": 5,
   "id": "9b3ee643",
   "metadata": {},
   "outputs": [],
   "source": [
    "# Define the data for RT\n",
    "data_rt = {\n",
    "    'WELDING PLATE': ['PLATE 1155', 'PLATE 1155', 'PLATE 14820', 'PLATE 14820'],\n",
    "    'TYPES OF DISCONTINUITIES': ['Porosity', 'Excessive Penetration', 'Crack', 'Porosity'],\n",
    "    'LOCATION FROM 0 (mm)': [95.5, 187, 19.9, 150],\n",
    "    'LENGTH OF DEFECT (mm)': [3.24, 17.8, 25.7, 21.0]\n",
    "}"
   ]
  },
  {
   "cell_type": "code",
   "execution_count": 20,
   "id": "ae5e34f0",
   "metadata": {},
   "outputs": [
    {
     "name": "stdout",
     "output_type": "stream",
     "text": [
      "Paired t-test statistic: 1.8171083877095258\n",
      "P-value: 0.16680151712224353\n"
     ]
    }
   ],
   "source": [
    "from scipy.stats import ttest_rel\n",
    "\n",
    "# Merge the data on 'WELDED PLATE ID' and 'TYPES OF DISCONTINUITIES' to align the defects for paired comparison\n",
    "merged_data = pd.merge(\n",
    "    df_paut,\n",
    "    df_rt,\n",
    "    on=['WELDED PLATE ID', 'TYPES OF DISCONTINUITIES'],\n",
    "    suffixes=('_PAUT', '_RT')\n",
    ")\n",
    "\n",
    "# Perform paired t-test\n",
    "stat, p_value = ttest_rel(merged_data['LENGTH OF DEFECT (mm)_PAUT'], merged_data['LENGTH OF DEFECT (mm)_RT'])\n",
    "\n",
    "print('Paired t-test statistic:', stat)\n",
    "print('P-value:', p_value)"
   ]
  },
  {
   "cell_type": "code",
   "execution_count": 6,
   "id": "662d108e",
   "metadata": {},
   "outputs": [],
   "source": [
    "# Create DataFrame for DIR\n",
    "df_rt = pd.DataFrame(data_rt)"
   ]
  },
  {
   "cell_type": "code",
   "execution_count": 7,
   "id": "ff813ff4",
   "metadata": {},
   "outputs": [
    {
     "data": {
      "text/html": [
       "<div>\n",
       "<style scoped>\n",
       "    .dataframe tbody tr th:only-of-type {\n",
       "        vertical-align: middle;\n",
       "    }\n",
       "\n",
       "    .dataframe tbody tr th {\n",
       "        vertical-align: top;\n",
       "    }\n",
       "\n",
       "    .dataframe thead th {\n",
       "        text-align: right;\n",
       "    }\n",
       "</style>\n",
       "<table border=\"1\" class=\"dataframe\">\n",
       "  <thead>\n",
       "    <tr style=\"text-align: right;\">\n",
       "      <th></th>\n",
       "      <th>WELDING PLATE</th>\n",
       "      <th>TYPES OF DISCONTINUITIES</th>\n",
       "      <th>LOCATION FROM 0 (mm)</th>\n",
       "      <th>LENGTH OF DEFECT (mm)</th>\n",
       "    </tr>\n",
       "  </thead>\n",
       "  <tbody>\n",
       "    <tr>\n",
       "      <th>0</th>\n",
       "      <td>PLATE 1155</td>\n",
       "      <td>Porosity</td>\n",
       "      <td>95.5</td>\n",
       "      <td>3.24</td>\n",
       "    </tr>\n",
       "    <tr>\n",
       "      <th>1</th>\n",
       "      <td>PLATE 1155</td>\n",
       "      <td>Excessive Penetration</td>\n",
       "      <td>187.0</td>\n",
       "      <td>17.80</td>\n",
       "    </tr>\n",
       "    <tr>\n",
       "      <th>2</th>\n",
       "      <td>PLATE 14820</td>\n",
       "      <td>Crack</td>\n",
       "      <td>19.9</td>\n",
       "      <td>25.70</td>\n",
       "    </tr>\n",
       "    <tr>\n",
       "      <th>3</th>\n",
       "      <td>PLATE 14820</td>\n",
       "      <td>Porosity</td>\n",
       "      <td>150.0</td>\n",
       "      <td>21.00</td>\n",
       "    </tr>\n",
       "  </tbody>\n",
       "</table>\n",
       "</div>"
      ],
      "text/plain": [
       "  WELDING PLATE TYPES OF DISCONTINUITIES  LOCATION FROM 0 (mm)  \\\n",
       "0    PLATE 1155                 Porosity                  95.5   \n",
       "1    PLATE 1155    Excessive Penetration                 187.0   \n",
       "2   PLATE 14820                    Crack                  19.9   \n",
       "3   PLATE 14820                 Porosity                 150.0   \n",
       "\n",
       "   LENGTH OF DEFECT (mm)  \n",
       "0                   3.24  \n",
       "1                  17.80  \n",
       "2                  25.70  \n",
       "3                  21.00  "
      ]
     },
     "execution_count": 7,
     "metadata": {},
     "output_type": "execute_result"
    }
   ],
   "source": [
    "df_rt"
   ]
  },
  {
   "cell_type": "code",
   "execution_count": 9,
   "id": "a4d91cb1",
   "metadata": {},
   "outputs": [],
   "source": [
    "# Rename columns in DIR DataFrame to match PAUT DataFrame\n",
    "df_rt.rename(columns={'WELDING PLATE': 'WELDED PLATE ID'}, inplace=True)"
   ]
  },
  {
   "cell_type": "code",
   "execution_count": 10,
   "id": "2b01849e",
   "metadata": {},
   "outputs": [],
   "source": [
    "# Add a source column to differentiate between PAUT and DIR data\n",
    "df_paut['SOURCE'] = 'PAUT'\n",
    "df_rt['SOURCE'] = 'RT'\n"
   ]
  },
  {
   "cell_type": "code",
   "execution_count": 11,
   "id": "66bcc69a",
   "metadata": {},
   "outputs": [],
   "source": [
    "# Combine both DataFrames\n",
    "df_combined = pd.concat([df_paut, df_rt], ignore_index=True)"
   ]
  },
  {
   "cell_type": "code",
   "execution_count": 12,
   "id": "73c0115e",
   "metadata": {},
   "outputs": [
    {
     "data": {
      "text/html": [
       "<div>\n",
       "<style scoped>\n",
       "    .dataframe tbody tr th:only-of-type {\n",
       "        vertical-align: middle;\n",
       "    }\n",
       "\n",
       "    .dataframe tbody tr th {\n",
       "        vertical-align: top;\n",
       "    }\n",
       "\n",
       "    .dataframe thead th {\n",
       "        text-align: right;\n",
       "    }\n",
       "</style>\n",
       "<table border=\"1\" class=\"dataframe\">\n",
       "  <thead>\n",
       "    <tr style=\"text-align: right;\">\n",
       "      <th></th>\n",
       "      <th>WELDED PLATE ID</th>\n",
       "      <th>TYPES OF DISCONTINUITIES</th>\n",
       "      <th>LOCATION FROM 0 (mm)</th>\n",
       "      <th>LENGTH OF DEFECT (mm)</th>\n",
       "      <th>SOURCE</th>\n",
       "    </tr>\n",
       "  </thead>\n",
       "  <tbody>\n",
       "    <tr>\n",
       "      <th>0</th>\n",
       "      <td>PLATE 1155</td>\n",
       "      <td>Porosity</td>\n",
       "      <td>92.5</td>\n",
       "      <td>18.50</td>\n",
       "      <td>PAUT</td>\n",
       "    </tr>\n",
       "    <tr>\n",
       "      <th>1</th>\n",
       "      <td>PLATE 1155</td>\n",
       "      <td>Excessive Penetration</td>\n",
       "      <td>168.0</td>\n",
       "      <td>19.00</td>\n",
       "      <td>PAUT</td>\n",
       "    </tr>\n",
       "    <tr>\n",
       "      <th>2</th>\n",
       "      <td>PLATE 14820</td>\n",
       "      <td>Crack</td>\n",
       "      <td>3.5</td>\n",
       "      <td>28.50</td>\n",
       "      <td>PAUT</td>\n",
       "    </tr>\n",
       "    <tr>\n",
       "      <th>3</th>\n",
       "      <td>PLATE 14820</td>\n",
       "      <td>Porosity</td>\n",
       "      <td>136.0</td>\n",
       "      <td>25.00</td>\n",
       "      <td>PAUT</td>\n",
       "    </tr>\n",
       "    <tr>\n",
       "      <th>4</th>\n",
       "      <td>PLATE 1155</td>\n",
       "      <td>Porosity</td>\n",
       "      <td>95.5</td>\n",
       "      <td>3.24</td>\n",
       "      <td>RT</td>\n",
       "    </tr>\n",
       "    <tr>\n",
       "      <th>5</th>\n",
       "      <td>PLATE 1155</td>\n",
       "      <td>Excessive Penetration</td>\n",
       "      <td>187.0</td>\n",
       "      <td>17.80</td>\n",
       "      <td>RT</td>\n",
       "    </tr>\n",
       "    <tr>\n",
       "      <th>6</th>\n",
       "      <td>PLATE 14820</td>\n",
       "      <td>Crack</td>\n",
       "      <td>19.9</td>\n",
       "      <td>25.70</td>\n",
       "      <td>RT</td>\n",
       "    </tr>\n",
       "    <tr>\n",
       "      <th>7</th>\n",
       "      <td>PLATE 14820</td>\n",
       "      <td>Porosity</td>\n",
       "      <td>150.0</td>\n",
       "      <td>21.00</td>\n",
       "      <td>RT</td>\n",
       "    </tr>\n",
       "  </tbody>\n",
       "</table>\n",
       "</div>"
      ],
      "text/plain": [
       "  WELDED PLATE ID TYPES OF DISCONTINUITIES  LOCATION FROM 0 (mm)  \\\n",
       "0      PLATE 1155                 Porosity                  92.5   \n",
       "1      PLATE 1155    Excessive Penetration                 168.0   \n",
       "2     PLATE 14820                    Crack                   3.5   \n",
       "3     PLATE 14820                 Porosity                 136.0   \n",
       "4      PLATE 1155                 Porosity                  95.5   \n",
       "5      PLATE 1155    Excessive Penetration                 187.0   \n",
       "6     PLATE 14820                    Crack                  19.9   \n",
       "7     PLATE 14820                 Porosity                 150.0   \n",
       "\n",
       "   LENGTH OF DEFECT (mm) SOURCE  \n",
       "0                  18.50   PAUT  \n",
       "1                  19.00   PAUT  \n",
       "2                  28.50   PAUT  \n",
       "3                  25.00   PAUT  \n",
       "4                   3.24     RT  \n",
       "5                  17.80     RT  \n",
       "6                  25.70     RT  \n",
       "7                  21.00     RT  "
      ]
     },
     "execution_count": 12,
     "metadata": {},
     "output_type": "execute_result"
    }
   ],
   "source": [
    "df_combined"
   ]
  },
  {
   "cell_type": "code",
   "execution_count": 13,
   "id": "ad10582a",
   "metadata": {},
   "outputs": [
    {
     "name": "stdout",
     "output_type": "stream",
     "text": [
      "SOURCE                                    PAUT     RT\n",
      "WELDED PLATE ID TYPES OF DISCONTINUITIES             \n",
      "PLATE 1155      Excessive Penetration     19.0  17.80\n",
      "                Porosity                  18.5   3.24\n",
      "PLATE 14820     Crack                     28.5  25.70\n",
      "                Porosity                  25.0  21.00\n"
     ]
    }
   ],
   "source": [
    "# Group by WELDED PLATE ID and TYPES OF DISCONTINUITIES\n",
    "comparison = df_combined.groupby(['WELDED PLATE ID', 'TYPES OF DISCONTINUITIES', 'SOURCE'])['LENGTH OF DEFECT (mm)'].mean().unstack()\n",
    "print(comparison)\n"
   ]
  },
  {
   "cell_type": "code",
   "execution_count": 14,
   "id": "72197092",
   "metadata": {},
   "outputs": [
    {
     "name": "stdout",
     "output_type": "stream",
     "text": [
      "SOURCE           PAUT     RT\n",
      "WELDED PLATE ID             \n",
      "PLATE 1155       37.5  21.04\n",
      "PLATE 14820      53.5  46.70\n"
     ]
    }
   ],
   "source": [
    "# Compare total lengths of defects per plate\n",
    "total_length_comparison = df_combined.groupby(['WELDED PLATE ID', 'SOURCE'])['LENGTH OF DEFECT (mm)'].sum().unstack()\n",
    "print(total_length_comparison)"
   ]
  },
  {
   "cell_type": "code",
   "execution_count": 15,
   "id": "55c7b1dd",
   "metadata": {},
   "outputs": [
    {
     "data": {
      "image/png": "[encoded data removed]",
      "text/plain": [
       "<Figure size 640x480 with 1 Axes>"
      ]
     },
     "metadata": {},
     "output_type": "display_data"
    }
   ],
   "source": [
    "# Bar plot for total length of defects by plate and source\n",
    "total_length_comparison.plot(kind='bar')\n",
    "plt.title('Total Length of Defects by Welded Plate ID and Source')\n",
    "plt.xlabel('Welded Plate ID')\n",
    "plt.ylabel('Total Length of Defects (mm)')\n",
    "plt.show()"
   ]
  },
  {
   "cell_type": "code",
   "execution_count": 16,
   "id": "7b9a6c57",
   "metadata": {},
   "outputs": [
    {
     "data": {
      "image/png": "[encoded data removed]",
      "text/plain": [
       "<Figure size 640x480 with 1 Axes>"
      ]
     },
     "metadata": {},
     "output_type": "display_data"
    },
    {
     "data": {
      "image/png": "[encoded data removed]",
      "text/plain": [
       "<Figure size 640x480 with 1 Axes>"
      ]
     },
     "metadata": {},
     "output_type": "display_data"
    }
   ],
   "source": [
    "# Scatter plot for defect locations by source\n",
    "for plate_id in df_combined['WELDED PLATE ID'].unique():\n",
    "    df_plate = df_combined[df_combined['WELDED PLATE ID'] == plate_id]\n",
    "    plt.figure()\n",
    "    for source in df_plate['SOURCE'].unique():\n",
    "        df_source = df_plate[df_plate['SOURCE'] == source]\n",
    "        plt.scatter(df_source['LOCATION FROM 0 (mm)'], df_source['LENGTH OF DEFECT (mm)'], label=source)\n",
    "    plt.title(f'Defect Locations and Lengths for {plate_id}')\n",
    "    plt.xlabel('Location from 0 (mm)')\n",
    "    plt.ylabel('Length of Defect (mm)')\n",
    "    plt.legend()\n",
    "    plt.show()"
   ]
  },
  {
   "cell_type": "code",
   "execution_count": 19,
   "id": "fd5723b7",
   "metadata": {},
   "outputs": [
    {
     "name": "stdout",
     "output_type": "stream",
     "text": [
      "Paired t-test statistic: 1.8171083877095258\n",
      "P-value: 0.16680151712224353\n"
     ]
    }
   ],
   "source": [
    "from scipy.stats import ttest_rel\n",
    "\n",
    "# Assuming you have matching samples for paired t-test\n",
    "lengths_paut = df_paut['LENGTH OF DEFECT (mm)']\n",
    "lengths_rt = df_rt['LENGTH OF DEFECT (mm)']\n",
    "\n",
    "# Perform paired t-test\n",
    "stat, p_value = ttest_rel(lengths_paut, lengths_rt)\n",
    "\n",
    "print('Paired t-test statistic:', stat)\n",
    "print('P-value:', p_value)"
   ]
  },
  {
   "cell_type": "code",
   "execution_count": 44,
   "id": "2f892272",
   "metadata": {},
   "outputs": [],
   "source": [
    "import pandas as pd\n",
    "import matplotlib.pyplot as plt\n",
    "from sklearn.model_selection import train_test_split\n",
    "from sklearn.ensemble import RandomForestClassifier\n",
    "from sklearn.metrics import accuracy_score, confusion_matrix, classification_report"
   ]
  },
  {
   "cell_type": "code",
   "execution_count": 45,
   "id": "5ee6dc4c",
   "metadata": {},
   "outputs": [],
   "source": [
    "# Define features and target\n",
    "X = df_combined.drop(columns=['WELDED PLATE ID'])\n",
    "y = df_combined['SOURCE']\n",
    "\n",
    "# Split the data into training and testing sets\n",
    "X_train, X_test, y_train, y_test = train_test_split(X, y, test_size=0.2, random_state=42)"
   ]
  },
  {
   "cell_type": "code",
   "execution_count": 46,
   "id": "16553a07",
   "metadata": {},
   "outputs": [
    {
     "data": {
      "text/html": [
       "<style>#sk-container-id-4 {color: black;}#sk-container-id-4 pre{padding: 0;}#sk-container-id-4 div.sk-toggleable {background-color: white;}#sk-container-id-4 label.sk-toggleable__label {cursor: pointer;display: block;width: 100%;margin-bottom: 0;padding: 0.3em;box-sizing: border-box;text-align: center;}#sk-container-id-4 label.sk-toggleable__label-arrow:before {content: \"▸\";float: left;margin-right: 0.25em;color: #696969;}#sk-container-id-4 label.sk-toggleable__label-arrow:hover:before {color: black;}#sk-container-id-4 div.sk-estimator:hover label.sk-toggleable__label-arrow:before {color: black;}#sk-container-id-4 div.sk-toggleable__content {max-height: 0;max-width: 0;overflow: hidden;text-align: left;background-color: #f0f8ff;}#sk-container-id-4 div.sk-toggleable__content pre {margin: 0.2em;color: black;border-radius: 0.25em;background-color: #f0f8ff;}#sk-container-id-4 input.sk-toggleable__control:checked~div.sk-toggleable__content {max-height: 200px;max-width: 100%;overflow: auto;}#sk-container-id-4 input.sk-toggleable__control:checked~label.sk-toggleable__label-arrow:before {content: \"▾\";}#sk-container-id-4 div.sk-estimator input.sk-toggleable__control:checked~label.sk-toggleable__label {background-color: #d4ebff;}#sk-container-id-4 div.sk-label input.sk-toggleable__control:checked~label.sk-toggleable__label {background-color: #d4ebff;}#sk-container-id-4 input.sk-hidden--visually {border: 0;clip: rect(1px 1px 1px 1px);clip: rect(1px, 1px, 1px, 1px);height: 1px;margin: -1px;overflow: hidden;padding: 0;position: absolute;width: 1px;}#sk-container-id-4 div.sk-estimator {font-family: monospace;background-color: #f0f8ff;border: 1px dotted black;border-radius: 0.25em;box-sizing: border-box;margin-bottom: 0.5em;}#sk-container-id-4 div.sk-estimator:hover {background-color: #d4ebff;}#sk-container-id-4 div.sk-parallel-item::after {content: \"\";width: 100%;border-bottom: 1px solid gray;flex-grow: 1;}#sk-container-id-4 div.sk-label:hover label.sk-toggleable__label {background-color: #d4ebff;}#sk-container-id-4 div.sk-serial::before {content: \"\";position: absolute;border-left: 1px solid gray;box-sizing: border-box;top: 0;bottom: 0;left: 50%;z-index: 0;}#sk-container-id-4 div.sk-serial {display: flex;flex-direction: column;align-items: center;background-color: white;padding-right: 0.2em;padding-left: 0.2em;position: relative;}#sk-container-id-4 div.sk-item {position: relative;z-index: 1;}#sk-container-id-4 div.sk-parallel {display: flex;align-items: stretch;justify-content: center;background-color: white;position: relative;}#sk-container-id-4 div.sk-item::before, #sk-container-id-4 div.sk-parallel-item::before {content: \"\";position: absolute;border-left: 1px solid gray;box-sizing: border-box;top: 0;bottom: 0;left: 50%;z-index: -1;}#sk-container-id-4 div.sk-parallel-item {display: flex;flex-direction: column;z-index: 1;position: relative;background-color: white;}#sk-container-id-4 div.sk-parallel-item:first-child::after {align-self: flex-end;width: 50%;}#sk-container-id-4 div.sk-parallel-item:last-child::after {align-self: flex-start;width: 50%;}#sk-container-id-4 div.sk-parallel-item:only-child::after {width: 0;}#sk-container-id-4 div.sk-dashed-wrapped {border: 1px dashed gray;margin: 0 0.4em 0.5em 0.4em;box-sizing: border-box;padding-bottom: 0.4em;background-color: white;}#sk-container-id-4 div.sk-label label {font-family: monospace;font-weight: bold;display: inline-block;line-height: 1.2em;}#sk-container-id-4 div.sk-label-container {text-align: center;}#sk-container-id-4 div.sk-container {/* jupyter's `normalize.less` sets `[hidden] { display: none; }` but bootstrap.min.css set `[hidden] { display: none !important; }` so we also need the `!important` here to be able to override the default hidden behavior on the sphinx rendered scikit-learn.org. See: https://github.com/scikit-learn/scikit-learn/issues/21755 */display: inline-block !important;position: relative;}#sk-container-id-4 div.sk-text-repr-fallback {display: none;}</style><div id=\"sk-container-id-4\" class=\"sk-top-container\"><div class=\"sk-text-repr-fallback\"><pre>RandomForestClassifier(random_state=42)</pre><b>In a Jupyter environment, please rerun this cell to show the HTML representation or trust the notebook. <br />On GitHub, the HTML representation is unable to render, please try loading this page with nbviewer.org.</b></div><div class=\"sk-container\" hidden><div class=\"sk-item\"><div class=\"sk-estimator sk-toggleable\"><input class=\"sk-toggleable__control sk-hidden--visually\" id=\"sk-estimator-id-4\" type=\"checkbox\" checked><label for=\"sk-estimator-id-4\" class=\"sk-toggleable__label sk-toggleable__label-arrow\">RandomForestClassifier</label><div class=\"sk-toggleable__content\"><pre>RandomForestClassifier(random_state=42)</pre></div></div></div></div></div>"
      ],
      "text/plain": [
       "RandomForestClassifier(random_state=42)"
      ]
     },
     "execution_count": 46,
     "metadata": {},
     "output_type": "execute_result"
    }
   ],
   "source": [
    "# Initialize the model\n",
    "model = RandomForestClassifier(random_state=42)\n",
    "\n",
    "# Train the model\n",
    "model.fit(X_train, y_train)"
   ]
  },
  {
   "cell_type": "code",
   "execution_count": 47,
   "id": "1042299a",
   "metadata": {},
   "outputs": [],
   "source": [
    "# Define the data for PAUT\n",
    "data_paut = {\n",
    "    'WELDED PLATE ID': ['PLATE 1155', 'PLATE 1155', 'PLATE 14820', 'PLATE 14820'],\n",
    "    'TYPES OF DISCONTINUITIES': ['Porosity', 'Excessive Penetration', 'Crack', 'Porosity'],\n",
    "    'LOCATION FROM 0 (mm)': [92.5, 168, 3.5, 136],\n",
    "    'LENGTH OF DEFECT (mm)': [18.5, 19.0, 28.5, 25.0]\n",
    "}\n",
    "\n",
    "# Define the data for RT\n",
    "data_rt = {\n",
    "    'WELDING PLATE': ['PLATE 1155', 'PLATE 1155', 'PLATE 14820', 'PLATE 14820'],\n",
    "    'TYPES OF DISCONTINUITIES': ['Porosity', 'Excessive Penetration', 'Crack', 'Porosity'],\n",
    "    'LOCATION FROM 0 (mm)': [95.5, 187, 19.9, 150],\n",
    "    'LENGTH OF DEFECT (mm)': [3.24, 17.8, 25.7, 21.0]\n",
    "}\n",
    "\n",
    "# Create DataFrames\n",
    "df_paut = pd.DataFrame(data_paut)\n",
    "df_rt = pd.DataFrame(data_rt)\n",
    "df_rt.rename(columns={'WELDING PLATE': 'WELDED PLATE ID'}, inplace=True)\n",
    "\n",
    "# Add a source column\n",
    "df_paut['SOURCE'] = 'PAUT'\n",
    "df_rt['SOURCE'] = 'RT'\n",
    "\n",
    "# Combine DataFrames\n",
    "df_combined = pd.concat([df_paut, df_rt], ignore_index=True)"
   ]
  },
  {
   "cell_type": "code",
   "execution_count": 48,
   "id": "d54b9672",
   "metadata": {},
   "outputs": [
    {
     "data": {
      "text/html": [
       "<div>\n",
       "<style scoped>\n",
       "    .dataframe tbody tr th:only-of-type {\n",
       "        vertical-align: middle;\n",
       "    }\n",
       "\n",
       "    .dataframe tbody tr th {\n",
       "        vertical-align: top;\n",
       "    }\n",
       "\n",
       "    .dataframe thead th {\n",
       "        text-align: right;\n",
       "    }\n",
       "</style>\n",
       "<table border=\"1\" class=\"dataframe\">\n",
       "  <thead>\n",
       "    <tr style=\"text-align: right;\">\n",
       "      <th></th>\n",
       "      <th>WELDED PLATE ID</th>\n",
       "      <th>TYPES OF DISCONTINUITIES</th>\n",
       "      <th>LOCATION FROM 0 (mm)</th>\n",
       "      <th>LENGTH OF DEFECT (mm)</th>\n",
       "      <th>SOURCE</th>\n",
       "    </tr>\n",
       "  </thead>\n",
       "  <tbody>\n",
       "    <tr>\n",
       "      <th>0</th>\n",
       "      <td>PLATE 1155</td>\n",
       "      <td>Porosity</td>\n",
       "      <td>92.5</td>\n",
       "      <td>18.50</td>\n",
       "      <td>PAUT</td>\n",
       "    </tr>\n",
       "    <tr>\n",
       "      <th>1</th>\n",
       "      <td>PLATE 1155</td>\n",
       "      <td>Excessive Penetration</td>\n",
       "      <td>168.0</td>\n",
       "      <td>19.00</td>\n",
       "      <td>PAUT</td>\n",
       "    </tr>\n",
       "    <tr>\n",
       "      <th>2</th>\n",
       "      <td>PLATE 14820</td>\n",
       "      <td>Crack</td>\n",
       "      <td>3.5</td>\n",
       "      <td>28.50</td>\n",
       "      <td>PAUT</td>\n",
       "    </tr>\n",
       "    <tr>\n",
       "      <th>3</th>\n",
       "      <td>PLATE 14820</td>\n",
       "      <td>Porosity</td>\n",
       "      <td>136.0</td>\n",
       "      <td>25.00</td>\n",
       "      <td>PAUT</td>\n",
       "    </tr>\n",
       "    <tr>\n",
       "      <th>4</th>\n",
       "      <td>PLATE 1155</td>\n",
       "      <td>Porosity</td>\n",
       "      <td>95.5</td>\n",
       "      <td>3.24</td>\n",
       "      <td>RT</td>\n",
       "    </tr>\n",
       "    <tr>\n",
       "      <th>5</th>\n",
       "      <td>PLATE 1155</td>\n",
       "      <td>Excessive Penetration</td>\n",
       "      <td>187.0</td>\n",
       "      <td>17.80</td>\n",
       "      <td>RT</td>\n",
       "    </tr>\n",
       "    <tr>\n",
       "      <th>6</th>\n",
       "      <td>PLATE 14820</td>\n",
       "      <td>Crack</td>\n",
       "      <td>19.9</td>\n",
       "      <td>25.70</td>\n",
       "      <td>RT</td>\n",
       "    </tr>\n",
       "    <tr>\n",
       "      <th>7</th>\n",
       "      <td>PLATE 14820</td>\n",
       "      <td>Porosity</td>\n",
       "      <td>150.0</td>\n",
       "      <td>21.00</td>\n",
       "      <td>RT</td>\n",
       "    </tr>\n",
       "  </tbody>\n",
       "</table>\n",
       "</div>"
      ],
      "text/plain": [
       "  WELDED PLATE ID TYPES OF DISCONTINUITIES  LOCATION FROM 0 (mm)  \\\n",
       "0      PLATE 1155                 Porosity                  92.5   \n",
       "1      PLATE 1155    Excessive Penetration                 168.0   \n",
       "2     PLATE 14820                    Crack                   3.5   \n",
       "3     PLATE 14820                 Porosity                 136.0   \n",
       "4      PLATE 1155                 Porosity                  95.5   \n",
       "5      PLATE 1155    Excessive Penetration                 187.0   \n",
       "6     PLATE 14820                    Crack                  19.9   \n",
       "7     PLATE 14820                 Porosity                 150.0   \n",
       "\n",
       "   LENGTH OF DEFECT (mm) SOURCE  \n",
       "0                  18.50   PAUT  \n",
       "1                  19.00   PAUT  \n",
       "2                  28.50   PAUT  \n",
       "3                  25.00   PAUT  \n",
       "4                   3.24     RT  \n",
       "5                  17.80     RT  \n",
       "6                  25.70     RT  \n",
       "7                  21.00     RT  "
      ]
     },
     "execution_count": 48,
     "metadata": {},
     "output_type": "execute_result"
    }
   ],
   "source": [
    "df_combined"
   ]
  },
  {
   "cell_type": "code",
   "execution_count": 49,
   "id": "d7c9d85d",
   "metadata": {},
   "outputs": [
    {
     "name": "stdout",
     "output_type": "stream",
     "text": [
      "  WELDED PLATE ID  LOCATION FROM 0 (mm)  LENGTH OF DEFECT (mm)  SOURCE  \\\n",
      "0      PLATE 1155                  92.5                  18.50       0   \n",
      "1      PLATE 1155                 168.0                  19.00       0   \n",
      "2     PLATE 14820                   3.5                  28.50       0   \n",
      "3     PLATE 14820                 136.0                  25.00       0   \n",
      "4      PLATE 1155                  95.5                   3.24       1   \n",
      "\n",
      "   TYPES OF DISCONTINUITIES_Crack  \\\n",
      "0                           False   \n",
      "1                           False   \n",
      "2                            True   \n",
      "3                           False   \n",
      "4                           False   \n",
      "\n",
      "   TYPES OF DISCONTINUITIES_Excessive Penetration  \\\n",
      "0                                           False   \n",
      "1                                            True   \n",
      "2                                           False   \n",
      "3                                           False   \n",
      "4                                           False   \n",
      "\n",
      "   TYPES OF DISCONTINUITIES_Porosity  \n",
      "0                               True  \n",
      "1                              False  \n",
      "2                              False  \n",
      "3                               True  \n",
      "4                               True  \n"
     ]
    }
   ],
   "source": [
    "# One-hot encode the 'TYPES OF DISCONTINUITIES' column\n",
    "df_combined = pd.get_dummies(df_combined, columns=['TYPES OF DISCONTINUITIES'])\n",
    "\n",
    "# Label encode the 'SOURCE' column\n",
    "df_combined['SOURCE'] = df_combined['SOURCE'].map({'PAUT': 0, 'RT': 1})\n",
    "\n",
    "print(df_combined.head())"
   ]
  },
  {
   "cell_type": "code",
   "execution_count": 50,
   "id": "4e9ae67c",
   "metadata": {},
   "outputs": [],
   "source": [
    "# Define features and target\n",
    "X = df_combined.drop(columns=['WELDED PLATE ID'])\n",
    "y = df_combined['SOURCE']\n",
    "\n",
    "# Split the data into training and testing sets\n",
    "X_train, X_test, y_train, y_test = train_test_split(X, y, test_size=0.2, random_state=42)"
   ]
  },
  {
   "cell_type": "code",
   "execution_count": 51,
   "id": "8a088ee9",
   "metadata": {},
   "outputs": [
    {
     "data": {
      "text/html": [
       "<style>#sk-container-id-5 {color: black;}#sk-container-id-5 pre{padding: 0;}#sk-container-id-5 div.sk-toggleable {background-color: white;}#sk-container-id-5 label.sk-toggleable__label {cursor: pointer;display: block;width: 100%;margin-bottom: 0;padding: 0.3em;box-sizing: border-box;text-align: center;}#sk-container-id-5 label.sk-toggleable__label-arrow:before {content: \"▸\";float: left;margin-right: 0.25em;color: #696969;}#sk-container-id-5 label.sk-toggleable__label-arrow:hover:before {color: black;}#sk-container-id-5 div.sk-estimator:hover label.sk-toggleable__label-arrow:before {color: black;}#sk-container-id-5 div.sk-toggleable__content {max-height: 0;max-width: 0;overflow: hidden;text-align: left;background-color: #f0f8ff;}#sk-container-id-5 div.sk-toggleable__content pre {margin: 0.2em;color: black;border-radius: 0.25em;background-color: #f0f8ff;}#sk-container-id-5 input.sk-toggleable__control:checked~div.sk-toggleable__content {max-height: 200px;max-width: 100%;overflow: auto;}#sk-container-id-5 input.sk-toggleable__control:checked~label.sk-toggleable__label-arrow:before {content: \"▾\";}#sk-container-id-5 div.sk-estimator input.sk-toggleable__control:checked~label.sk-toggleable__label {background-color: #d4ebff;}#sk-container-id-5 div.sk-label input.sk-toggleable__control:checked~label.sk-toggleable__label {background-color: #d4ebff;}#sk-container-id-5 input.sk-hidden--visually {border: 0;clip: rect(1px 1px 1px 1px);clip: rect(1px, 1px, 1px, 1px);height: 1px;margin: -1px;overflow: hidden;padding: 0;position: absolute;width: 1px;}#sk-container-id-5 div.sk-estimator {font-family: monospace;background-color: #f0f8ff;border: 1px dotted black;border-radius: 0.25em;box-sizing: border-box;margin-bottom: 0.5em;}#sk-container-id-5 div.sk-estimator:hover {background-color: #d4ebff;}#sk-container-id-5 div.sk-parallel-item::after {content: \"\";width: 100%;border-bottom: 1px solid gray;flex-grow: 1;}#sk-container-id-5 div.sk-label:hover label.sk-toggleable__label {background-color: #d4ebff;}#sk-container-id-5 div.sk-serial::before {content: \"\";position: absolute;border-left: 1px solid gray;box-sizing: border-box;top: 0;bottom: 0;left: 50%;z-index: 0;}#sk-container-id-5 div.sk-serial {display: flex;flex-direction: column;align-items: center;background-color: white;padding-right: 0.2em;padding-left: 0.2em;position: relative;}#sk-container-id-5 div.sk-item {position: relative;z-index: 1;}#sk-container-id-5 div.sk-parallel {display: flex;align-items: stretch;justify-content: center;background-color: white;position: relative;}#sk-container-id-5 div.sk-item::before, #sk-container-id-5 div.sk-parallel-item::before {content: \"\";position: absolute;border-left: 1px solid gray;box-sizing: border-box;top: 0;bottom: 0;left: 50%;z-index: -1;}#sk-container-id-5 div.sk-parallel-item {display: flex;flex-direction: column;z-index: 1;position: relative;background-color: white;}#sk-container-id-5 div.sk-parallel-item:first-child::after {align-self: flex-end;width: 50%;}#sk-container-id-5 div.sk-parallel-item:last-child::after {align-self: flex-start;width: 50%;}#sk-container-id-5 div.sk-parallel-item:only-child::after {width: 0;}#sk-container-id-5 div.sk-dashed-wrapped {border: 1px dashed gray;margin: 0 0.4em 0.5em 0.4em;box-sizing: border-box;padding-bottom: 0.4em;background-color: white;}#sk-container-id-5 div.sk-label label {font-family: monospace;font-weight: bold;display: inline-block;line-height: 1.2em;}#sk-container-id-5 div.sk-label-container {text-align: center;}#sk-container-id-5 div.sk-container {/* jupyter's `normalize.less` sets `[hidden] { display: none; }` but bootstrap.min.css set `[hidden] { display: none !important; }` so we also need the `!important` here to be able to override the default hidden behavior on the sphinx rendered scikit-learn.org. See: https://github.com/scikit-learn/scikit-learn/issues/21755 */display: inline-block !important;position: relative;}#sk-container-id-5 div.sk-text-repr-fallback {display: none;}</style><div id=\"sk-container-id-5\" class=\"sk-top-container\"><div class=\"sk-text-repr-fallback\"><pre>RandomForestClassifier(random_state=42)</pre><b>In a Jupyter environment, please rerun this cell to show the HTML representation or trust the notebook. <br />On GitHub, the HTML representation is unable to render, please try loading this page with nbviewer.org.</b></div><div class=\"sk-container\" hidden><div class=\"sk-item\"><div class=\"sk-estimator sk-toggleable\"><input class=\"sk-toggleable__control sk-hidden--visually\" id=\"sk-estimator-id-5\" type=\"checkbox\" checked><label for=\"sk-estimator-id-5\" class=\"sk-toggleable__label sk-toggleable__label-arrow\">RandomForestClassifier</label><div class=\"sk-toggleable__content\"><pre>RandomForestClassifier(random_state=42)</pre></div></div></div></div></div>"
      ],
      "text/plain": [
       "RandomForestClassifier(random_state=42)"
      ]
     },
     "execution_count": 51,
     "metadata": {},
     "output_type": "execute_result"
    }
   ],
   "source": [
    "# Initialize the model\n",
    "model = RandomForestClassifier(random_state=42)\n",
    "\n",
    "# Train the model\n",
    "model.fit(X_train, y_train)"
   ]
  },
  {
   "cell_type": "code",
   "execution_count": 52,
   "id": "b1d54a1d",
   "metadata": {},
   "outputs": [
    {
     "name": "stdout",
     "output_type": "stream",
     "text": [
      "Accuracy: 1.00\n",
      "Confusion Matrix:\n",
      "[[1 0]\n",
      " [0 1]]\n",
      "Classification Report:\n",
      "              precision    recall  f1-score   support\n",
      "\n",
      "           0       1.00      1.00      1.00         1\n",
      "           1       1.00      1.00      1.00         1\n",
      "\n",
      "    accuracy                           1.00         2\n",
      "   macro avg       1.00      1.00      1.00         2\n",
      "weighted avg       1.00      1.00      1.00         2\n",
      "\n"
     ]
    }
   ],
   "source": [
    "# Make predictions\n",
    "y_pred = model.predict(X_test)\n",
    "\n",
    "# Calculate accuracy\n",
    "accuracy = accuracy_score(y_test, y_pred)\n",
    "print(f'Accuracy: {accuracy:.2f}')\n",
    "\n",
    "# Confusion matrix\n",
    "conf_matrix = confusion_matrix(y_test, y_pred)\n",
    "print('Confusion Matrix:')\n",
    "print(conf_matrix)\n",
    "\n",
    "# Classification report\n",
    "class_report = classification_report(y_test, y_pred)\n",
    "print('Classification Report:')\n",
    "print(class_report)"
   ]
  },
  {
   "cell_type": "code",
   "execution_count": 53,
   "id": "fa4029c2",
   "metadata": {},
   "outputs": [
    {
     "data": {
      "image/png": "[encoded data removed]",
      "text/plain": [
       "<Figure size 640x480 with 1 Axes>"
      ]
     },
     "metadata": {},
     "output_type": "display_data"
    }
   ],
   "source": [
    "# Bar plot for accuracy\n",
    "plt.bar(['Accuracy'], [accuracy])\n",
    "plt.title('Model Accuracy')\n",
    "plt.ylabel('Accuracy')\n",
    "plt.ylim(0, 1)\n",
    "plt.show()"
   ]
  },
  {
   "cell_type": "code",
   "execution_count": 54,
   "id": "a0781d44",
   "metadata": {},
   "outputs": [
    {
     "data": {
      "image/png": "[encoded data removed]",
      "text/plain": [
       "<Figure size 640x480 with 2 Axes>"
      ]
     },
     "metadata": {},
     "output_type": "display_data"
    }
   ],
   "source": [
    "# Scatter plot for predictions\n",
    "plt.scatter(X_test['LOCATION FROM 0 (mm)'], X_test['LENGTH OF DEFECT (mm)'], c=y_pred, cmap='viridis')\n",
    "plt.title('Predicted Defect Locations and Lengths')\n",
    "plt.xlabel('Location from 0 (mm)')\n",
    "plt.ylabel('Length of Defect (mm)')\n",
    "plt.colorbar(label='Predicted Source')\n",
    "plt.show()\n"
   ]
  },
  {
   "cell_type": "code",
   "execution_count": 57,
   "id": "81415e54",
   "metadata": {},
   "outputs": [],
   "source": [
    "from sklearn.metrics import accuracy_score, precision_score, recall_score\n"
   ]
  },
  {
   "cell_type": "code",
   "execution_count": null,
   "id": "77f087d6",
   "metadata": {},
   "outputs": [],
   "source": []
  }
 ],
 "metadata": {
  "kernelspec": {
   "display_name": "Python 3 (ipykernel)",
   "language": "python",
   "name": "python3"
  },
  "language_info": {
   "codemirror_mode": {
    "name": "ipython",
    "version": 3
   },
   "file_extension": ".py",
   "mimetype": "text/x-python",
   "name": "python",
   "nbconvert_exporter": "python",
   "pygments_lexer": "ipython3",
   "version": "3.11.5"
  }
 },
 "nbformat": 4,
 "nbformat_minor": 5
}
